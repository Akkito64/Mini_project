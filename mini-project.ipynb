{
 "cells": [
  {
   "cell_type": "code",
   "execution_count": 90,
   "metadata": {},
   "outputs": [],
   "source": [
    "import pandas as pd\n",
    "import seaborn as sns\n",
    "import numpy as np\n",
    "import datetime as dt\n",
    "from matplotlib import pyplot as plt\n",
    "import warnings\n",
    "warnings.filterwarnings(\"ignore\")\n",
    "\n",
    "plt.style.use('ggplot')"
   ]
  },
  {
   "cell_type": "code",
   "execution_count": 91,
   "metadata": {},
   "outputs": [
    {
     "name": "stdout",
     "output_type": "stream",
     "text": [
      "<class 'pandas.core.frame.DataFrame'>\n",
      "RangeIndex: 968531 entries, 0 to 968530\n",
      "Data columns (total 53 columns):\n",
      " #   Column                       Non-Null Count   Dtype  \n",
      "---  ------                       --------------   -----  \n",
      " 0   LoanNumber                   968531 non-null  int64  \n",
      " 1   DateApproved                 968531 non-null  object \n",
      " 2   SBAOfficeCode                968531 non-null  int64  \n",
      " 3   ProcessingMethod             968531 non-null  object \n",
      " 4   BorrowerName                 968527 non-null  object \n",
      " 5   BorrowerAddress              968517 non-null  object \n",
      " 6   BorrowerCity                 968519 non-null  object \n",
      " 7   BorrowerState                968518 non-null  object \n",
      " 8   BorrowerZip                  968518 non-null  object \n",
      " 9   LoanStatusDate               930864 non-null  object \n",
      " 10  LoanStatus                   968531 non-null  object \n",
      " 11  Term                         968531 non-null  int64  \n",
      " 12  SBAGuarantyPercentage        968531 non-null  int64  \n",
      " 13  InitialApprovalAmount        968531 non-null  float64\n",
      " 14  CurrentApprovalAmount        968531 non-null  float64\n",
      " 15  UndisbursedAmount            968484 non-null  float64\n",
      " 16  FranchiseName                35405 non-null   object \n",
      " 17  ServicingLenderLocationID    968531 non-null  int64  \n",
      " 18  ServicingLenderName          968531 non-null  object \n",
      " 19  ServicingLenderAddress       968531 non-null  object \n",
      " 20  ServicingLenderCity          968531 non-null  object \n",
      " 21  ServicingLenderState         968531 non-null  object \n",
      " 22  ServicingLenderZip           968531 non-null  object \n",
      " 23  RuralUrbanIndicator          968531 non-null  object \n",
      " 24  HubzoneIndicator             968531 non-null  object \n",
      " 25  LMIIndicator                 968531 non-null  object \n",
      " 26  BusinessAgeDescription       968530 non-null  object \n",
      " 27  ProjectCity                  968518 non-null  object \n",
      " 28  ProjectCountyName            968474 non-null  object \n",
      " 29  ProjectState                 968522 non-null  object \n",
      " 30  ProjectZip                   968517 non-null  object \n",
      " 31  CD                           968485 non-null  object \n",
      " 32  JobsReported                 968530 non-null  float64\n",
      " 33  NAICSCode                    961903 non-null  float64\n",
      " 34  Race                         968531 non-null  object \n",
      " 35  Ethnicity                    968531 non-null  object \n",
      " 36  UTILITIES_PROCEED            339377 non-null  float64\n",
      " 37  PAYROLL_PROCEED              966699 non-null  float64\n",
      " 38  MORTGAGE_INTEREST_PROCEED    46183 non-null   float64\n",
      " 39  RENT_PROCEED                 99533 non-null   float64\n",
      " 40  REFINANCE_EIDL_PROCEED       22855 non-null   float64\n",
      " 41  HEALTH_CARE_PROCEED          57446 non-null   float64\n",
      " 42  DEBT_INTEREST_PROCEED        31717 non-null   float64\n",
      " 43  BusinessType                 967809 non-null  object \n",
      " 44  OriginatingLenderLocationID  968531 non-null  int64  \n",
      " 45  OriginatingLender            968531 non-null  object \n",
      " 46  OriginatingLenderCity        968531 non-null  object \n",
      " 47  OriginatingLenderState       968531 non-null  object \n",
      " 48  Gender                       968531 non-null  object \n",
      " 49  Veteran                      968531 non-null  object \n",
      " 50  NonProfit                    59341 non-null   object \n",
      " 51  ForgivenessAmount            938885 non-null  float64\n",
      " 52  ForgivenessDate              938885 non-null  object \n",
      "dtypes: float64(13), int64(6), object(34)\n",
      "memory usage: 391.6+ MB\n"
     ]
    }
   ],
   "source": [
    "df = pd.read_csv(r\"C:\\Users\\User\\Desktop\\Nida\\dads5001\\public_150k_plus_230101.csv\")\n",
    "\n",
    "df.info()"
   ]
  },
  {
   "cell_type": "code",
   "execution_count": 92,
   "metadata": {},
   "outputs": [
    {
     "data": {
      "text/plain": [
       "0                   SUMTER\n",
       "1         NORTH CHARLESTON\n",
       "2                  SEATTLE\n",
       "3           SAN BERNARDINO\n",
       "4                      NaN\n",
       "                ...       \n",
       "968526              CASPER\n",
       "968527         GREEN RIVER\n",
       "968528               ROZET\n",
       "968529            SHERIDAN\n",
       "968530       TETON VILLAGE\n",
       "Name: BorrowerCity, Length: 968531, dtype: object"
      ]
     },
     "execution_count": 92,
     "metadata": {},
     "output_type": "execute_result"
    }
   ],
   "source": [
    "# ใน column มี ชื่อเหมือนกัน เช่น NEW YORK , NEW YORK\n",
    "df['BorrowerCity'].str.upper()"
   ]
  },
  {
   "cell_type": "code",
   "execution_count": 93,
   "metadata": {},
   "outputs": [
    {
     "data": {
      "text/plain": [
       "0   2020-05-01\n",
       "1   2020-05-01\n",
       "2   2020-05-01\n",
       "3   2020-05-01\n",
       "4   2020-05-01\n",
       "5   2020-05-01\n",
       "6   2020-05-01\n",
       "7   2020-05-01\n",
       "8   2020-05-01\n",
       "9   2020-05-01\n",
       "Name: DateApproved, dtype: datetime64[ns]"
      ]
     },
     "execution_count": 93,
     "metadata": {},
     "output_type": "execute_result"
    }
   ],
   "source": [
    "# change datatype of date to datetime \n",
    "df['DateApproved'] = pd.to_datetime(df['DateApproved'])\n",
    "\n",
    "# check the format column\n",
    "df.head(10)['DateApproved']"
   ]
  },
  {
   "cell_type": "code",
   "execution_count": 94,
   "metadata": {},
   "outputs": [
    {
     "data": {
      "text/plain": [
       "LoanNumber                          0\n",
       "DateApproved                        0\n",
       "SBAOfficeCode                       0\n",
       "ProcessingMethod                    0\n",
       "BorrowerName                        4\n",
       "BorrowerAddress                    14\n",
       "BorrowerCity                       12\n",
       "BorrowerState                      13\n",
       "BorrowerZip                        13\n",
       "LoanStatusDate                  37667\n",
       "LoanStatus                          0\n",
       "Term                                0\n",
       "SBAGuarantyPercentage               0\n",
       "InitialApprovalAmount               0\n",
       "CurrentApprovalAmount               0\n",
       "UndisbursedAmount                  47\n",
       "FranchiseName                  933126\n",
       "ServicingLenderLocationID           0\n",
       "ServicingLenderName                 0\n",
       "ServicingLenderAddress              0\n",
       "ServicingLenderCity                 0\n",
       "ServicingLenderState                0\n",
       "ServicingLenderZip                  0\n",
       "RuralUrbanIndicator                 0\n",
       "HubzoneIndicator                    0\n",
       "LMIIndicator                        0\n",
       "BusinessAgeDescription              1\n",
       "ProjectCity                        13\n",
       "ProjectCountyName                  57\n",
       "ProjectState                        9\n",
       "ProjectZip                         14\n",
       "CD                                 46\n",
       "JobsReported                        1\n",
       "NAICSCode                        6628\n",
       "Race                                0\n",
       "Ethnicity                           0\n",
       "UTILITIES_PROCEED              629154\n",
       "PAYROLL_PROCEED                  1832\n",
       "MORTGAGE_INTEREST_PROCEED      922348\n",
       "RENT_PROCEED                   868998\n",
       "REFINANCE_EIDL_PROCEED         945676\n",
       "HEALTH_CARE_PROCEED            911085\n",
       "DEBT_INTEREST_PROCEED          936814\n",
       "BusinessType                      722\n",
       "OriginatingLenderLocationID         0\n",
       "OriginatingLender                   0\n",
       "OriginatingLenderCity               0\n",
       "OriginatingLenderState              0\n",
       "Gender                              0\n",
       "Veteran                             0\n",
       "NonProfit                      909190\n",
       "ForgivenessAmount               29646\n",
       "ForgivenessDate                 29646\n",
       "dtype: int64"
      ]
     },
     "execution_count": 94,
     "metadata": {},
     "output_type": "execute_result"
    }
   ],
   "source": [
    "#find NaN in data\n",
    "df.isna().sum()"
   ]
  },
  {
   "cell_type": "code",
   "execution_count": 95,
   "metadata": {},
   "outputs": [],
   "source": [
    "# drop column have NaN more than 80%\n",
    "df = df.drop(['FranchiseName','NonProfit','UTILITIES_PROCEED','MORTGAGE_INTEREST_PROCEED','RENT_PROCEED','REFINANCE_EIDL_PROCEED','HEALTH_CARE_PROCEED','DEBT_INTEREST_PROCEED','NonProfit'],axis=1)"
   ]
  },
  {
   "cell_type": "code",
   "execution_count": 96,
   "metadata": {},
   "outputs": [
    {
     "data": {
      "text/plain": [
       "LoanNumber                         0\n",
       "DateApproved                       0\n",
       "SBAOfficeCode                      0\n",
       "ProcessingMethod                   0\n",
       "BorrowerName                       4\n",
       "BorrowerAddress                   14\n",
       "BorrowerCity                      12\n",
       "BorrowerState                     13\n",
       "BorrowerZip                       13\n",
       "LoanStatusDate                 37667\n",
       "LoanStatus                         0\n",
       "Term                               0\n",
       "SBAGuarantyPercentage              0\n",
       "InitialApprovalAmount              0\n",
       "CurrentApprovalAmount              0\n",
       "UndisbursedAmount                 47\n",
       "ServicingLenderLocationID          0\n",
       "ServicingLenderName                0\n",
       "ServicingLenderAddress             0\n",
       "ServicingLenderCity                0\n",
       "ServicingLenderState               0\n",
       "ServicingLenderZip                 0\n",
       "RuralUrbanIndicator                0\n",
       "HubzoneIndicator                   0\n",
       "LMIIndicator                       0\n",
       "BusinessAgeDescription             1\n",
       "ProjectCity                       13\n",
       "ProjectCountyName                 57\n",
       "ProjectState                       9\n",
       "ProjectZip                        14\n",
       "CD                                46\n",
       "JobsReported                       1\n",
       "NAICSCode                       6628\n",
       "Race                               0\n",
       "Ethnicity                          0\n",
       "PAYROLL_PROCEED                 1832\n",
       "BusinessType                     722\n",
       "OriginatingLenderLocationID        0\n",
       "OriginatingLender                  0\n",
       "OriginatingLenderCity              0\n",
       "OriginatingLenderState             0\n",
       "Gender                             0\n",
       "Veteran                            0\n",
       "ForgivenessAmount              29646\n",
       "ForgivenessDate                29646\n",
       "dtype: int64"
      ]
     },
     "execution_count": 96,
     "metadata": {},
     "output_type": "execute_result"
    }
   ],
   "source": [
    "df.isnull().sum()"
   ]
  },
  {
   "cell_type": "code",
   "execution_count": 97,
   "metadata": {},
   "outputs": [
    {
     "data": {
      "text/html": [
       "<div>\n",
       "<style scoped>\n",
       "    .dataframe tbody tr th:only-of-type {\n",
       "        vertical-align: middle;\n",
       "    }\n",
       "\n",
       "    .dataframe tbody tr th {\n",
       "        vertical-align: top;\n",
       "    }\n",
       "\n",
       "    .dataframe thead th {\n",
       "        text-align: right;\n",
       "    }\n",
       "</style>\n",
       "<table border=\"1\" class=\"dataframe\">\n",
       "  <thead>\n",
       "    <tr style=\"text-align: right;\">\n",
       "      <th></th>\n",
       "      <th>InitialApprovalAmount</th>\n",
       "      <th>CurrentApprovalAmount</th>\n",
       "    </tr>\n",
       "  </thead>\n",
       "  <tbody>\n",
       "    <tr>\n",
       "      <th>count</th>\n",
       "      <td>968,531.00</td>\n",
       "      <td>968,531.00</td>\n",
       "    </tr>\n",
       "    <tr>\n",
       "      <th>mean</th>\n",
       "      <td>532,253.66</td>\n",
       "      <td>530,622.09</td>\n",
       "    </tr>\n",
       "    <tr>\n",
       "      <th>std</th>\n",
       "      <td>744,251.43</td>\n",
       "      <td>737,887.06</td>\n",
       "    </tr>\n",
       "    <tr>\n",
       "      <th>min</th>\n",
       "      <td>0.00</td>\n",
       "      <td>150,000.00</td>\n",
       "    </tr>\n",
       "    <tr>\n",
       "      <th>25%</th>\n",
       "      <td>200,200.00</td>\n",
       "      <td>200,400.00</td>\n",
       "    </tr>\n",
       "    <tr>\n",
       "      <th>50%</th>\n",
       "      <td>295,177.00</td>\n",
       "      <td>295,000.00</td>\n",
       "    </tr>\n",
       "    <tr>\n",
       "      <th>75%</th>\n",
       "      <td>540,200.00</td>\n",
       "      <td>539,384.33</td>\n",
       "    </tr>\n",
       "    <tr>\n",
       "      <th>max</th>\n",
       "      <td>10,000,000.00</td>\n",
       "      <td>10,000,000.00</td>\n",
       "    </tr>\n",
       "  </tbody>\n",
       "</table>\n",
       "</div>"
      ],
      "text/plain": [
       "       InitialApprovalAmount  CurrentApprovalAmount\n",
       "count             968,531.00             968,531.00\n",
       "mean              532,253.66             530,622.09\n",
       "std               744,251.43             737,887.06\n",
       "min                     0.00             150,000.00\n",
       "25%               200,200.00             200,400.00\n",
       "50%               295,177.00             295,000.00\n",
       "75%               540,200.00             539,384.33\n",
       "max            10,000,000.00          10,000,000.00"
      ]
     },
     "execution_count": 97,
     "metadata": {},
     "output_type": "execute_result"
    }
   ],
   "source": [
    "pd.options.display.float_format = \"{:,.2f}\".format\n",
    "df.describe()[['InitialApprovalAmount','CurrentApprovalAmount']]"
   ]
  },
  {
   "cell_type": "code",
   "execution_count": 98,
   "metadata": {},
   "outputs": [
    {
     "data": {
      "text/plain": [
       "<AxesSubplot: >"
      ]
     },
     "execution_count": 98,
     "metadata": {},
     "output_type": "execute_result"
    },
    {
     "data": {
      "image/png": "[encoded data removed]",
      "text/plain": [
       "<Figure size 640x480 with 1 Axes>"
      ]
     },
     "metadata": {},
     "output_type": "display_data"
    }
   ],
   "source": [
    "df['InitialApprovalAmount'].plot()"
   ]
  },
  {
   "cell_type": "code",
   "execution_count": 99,
   "metadata": {},
   "outputs": [
    {
     "data": {
      "image/png": "[encoded data removed]",
      "text/plain": [
       "<Figure size 640x480 with 2 Axes>"
      ]
     },
     "metadata": {},
     "output_type": "display_data"
    }
   ],
   "source": [
    "#boxplox looking for outliner\n",
    "plt.subplot(1,2,1)\n",
    "plt.boxplot(df['InitialApprovalAmount'])\n",
    "plt.title('Initial')\n",
    "\n",
    "plt.subplot(1,2,2)\n",
    "plt.boxplot(df['CurrentApprovalAmount'])\n",
    "plt.title('Current')\n",
    "plt.show()"
   ]
  },
  {
   "cell_type": "code",
   "execution_count": 100,
   "metadata": {},
   "outputs": [],
   "source": [
    "#remove outliner\n",
    "def filter_outliner(df, column_name):\n",
    "    q_low = df[column_name].quantile(0.01)\n",
    "    q_hi  = df[column_name].quantile(0.99)\n",
    "    df_filtered = df[(df[column_name] < q_hi) & (df[column_name] > q_low)]\n",
    "    return df_filtered\n",
    "\n",
    "df_ini = filter_outliner(df,'InitialApprovalAmount')\n",
    "df_cur = filter_outliner(df,'CurrentApprovalAmount')"
   ]
  },
  {
   "cell_type": "code",
   "execution_count": 101,
   "metadata": {},
   "outputs": [
    {
     "data": {
      "text/plain": [
       "mean       532,253.66\n",
       "count      968,531.00\n",
       "max     10,000,000.00\n",
       "min              0.00\n",
       "Name: InitialApprovalAmount, dtype: float64"
      ]
     },
     "execution_count": 101,
     "metadata": {},
     "output_type": "execute_result"
    }
   ],
   "source": [
    "#change scientific notation to decimal 2 number\n",
    "pd.options.display.float_format = \"{:,.2f}\".format\n",
    "df['InitialApprovalAmount'].agg(['mean','count','max','min'])"
   ]
  },
  {
   "cell_type": "code",
   "execution_count": 102,
   "metadata": {},
   "outputs": [
    {
     "data": {
      "image/png": "[encoded data removed]",
      "text/plain": [
       "<Figure size 640x480 with 2 Axes>"
      ]
     },
     "metadata": {},
     "output_type": "display_data"
    }
   ],
   "source": [
    "#boxplox looking for outliner\n",
    "plt.subplot(1,2,1)\n",
    "plt.boxplot(df_ini['InitialApprovalAmount'])\n",
    "plt.title('Initial')\n",
    "\n",
    "plt.subplot(1,2,2)\n",
    "plt.boxplot(df_cur['CurrentApprovalAmount'])\n",
    "plt.title('Current')\n",
    "plt.show()"
   ]
  }
 ],
 "metadata": {
  "kernelspec": {
   "display_name": "Python 3",
   "language": "python",
   "name": "python3"
  },
  "language_info": {
   "codemirror_mode": {
    "name": "ipython",
    "version": 3
   },
   "file_extension": ".py",
   "mimetype": "text/x-python",
   "name": "python",
   "nbconvert_exporter": "python",
   "pygments_lexer": "ipython3",
   "version": "3.10.8"
  },
  "orig_nbformat": 4,
  "vscode": {
   "interpreter": {
    "hash": "26de051ba29f2982a8de78e945f0abaf191376122a1563185a90213a26c5da77"
   }
  }
 },
 "nbformat": 4,
 "nbformat_minor": 2
}
