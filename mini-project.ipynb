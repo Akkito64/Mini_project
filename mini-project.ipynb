{
 "cells": [
  {
   "cell_type": "code",
   "execution_count": 2,
   "metadata": {},
   "outputs": [],
   "source": [
    "import sys\n",
    "import numpy as np\n",
    "import pandas as pd\n",
    "\n",
    "import matplotlib as mpl\n",
    "%matplotlib inline\n",
    "import matplotlib.pyplot as plt"
   ]
  },
  {
   "cell_type": "code",
   "execution_count": 3,
   "metadata": {},
   "outputs": [
    {
     "name": "stdout",
     "output_type": "stream",
     "text": [
      "<class 'pandas.core.frame.DataFrame'>\n",
      "RangeIndex: 968531 entries, 0 to 968530\n",
      "Data columns (total 53 columns):\n",
      " #   Column                       Non-Null Count   Dtype  \n",
      "---  ------                       --------------   -----  \n",
      " 0   LoanNumber                   968531 non-null  int64  \n",
      " 1   DateApproved                 968531 non-null  object \n",
      " 2   SBAOfficeCode                968531 non-null  int64  \n",
      " 3   ProcessingMethod             968531 non-null  object \n",
      " 4   BorrowerName                 968527 non-null  object \n",
      " 5   BorrowerAddress              968517 non-null  object \n",
      " 6   BorrowerCity                 968519 non-null  object \n",
      " 7   BorrowerState                968518 non-null  object \n",
      " 8   BorrowerZip                  968518 non-null  object \n",
      " 9   LoanStatusDate               930864 non-null  object \n",
      " 10  LoanStatus                   968531 non-null  object \n",
      " 11  Term                         968531 non-null  int64  \n",
      " 12  SBAGuarantyPercentage        968531 non-null  int64  \n",
      " 13  InitialApprovalAmount        968531 non-null  float64\n",
      " 14  CurrentApprovalAmount        968531 non-null  float64\n",
      " 15  UndisbursedAmount            968484 non-null  float64\n",
      " 16  FranchiseName                35405 non-null   object \n",
      " 17  ServicingLenderLocationID    968531 non-null  int64  \n",
      " 18  ServicingLenderName          968531 non-null  object \n",
      " 19  ServicingLenderAddress       968531 non-null  object \n",
      " 20  ServicingLenderCity          968531 non-null  object \n",
      " 21  ServicingLenderState         968531 non-null  object \n",
      " 22  ServicingLenderZip           968531 non-null  object \n",
      " 23  RuralUrbanIndicator          968531 non-null  object \n",
      " 24  HubzoneIndicator             968531 non-null  object \n",
      " 25  LMIIndicator                 968531 non-null  object \n",
      " 26  BusinessAgeDescription       968530 non-null  object \n",
      " 27  ProjectCity                  968518 non-null  object \n",
      " 28  ProjectCountyName            968474 non-null  object \n",
      " 29  ProjectState                 968522 non-null  object \n",
      " 30  ProjectZip                   968517 non-null  object \n",
      " 31  CD                           968485 non-null  object \n",
      " 32  JobsReported                 968530 non-null  float64\n",
      " 33  NAICSCode                    961903 non-null  float64\n",
      " 34  Race                         968531 non-null  object \n",
      " 35  Ethnicity                    968531 non-null  object \n",
      " 36  UTILITIES_PROCEED            339377 non-null  float64\n",
      " 37  PAYROLL_PROCEED              966699 non-null  float64\n",
      " 38  MORTGAGE_INTEREST_PROCEED    46183 non-null   float64\n",
      " 39  RENT_PROCEED                 99533 non-null   float64\n",
      " 40  REFINANCE_EIDL_PROCEED       22855 non-null   float64\n",
      " 41  HEALTH_CARE_PROCEED          57446 non-null   float64\n",
      " 42  DEBT_INTEREST_PROCEED        31717 non-null   float64\n",
      " 43  BusinessType                 967809 non-null  object \n",
      " 44  OriginatingLenderLocationID  968531 non-null  int64  \n",
      " 45  OriginatingLender            968531 non-null  object \n",
      " 46  OriginatingLenderCity        968531 non-null  object \n",
      " 47  OriginatingLenderState       968531 non-null  object \n",
      " 48  Gender                       968531 non-null  object \n",
      " 49  Veteran                      968531 non-null  object \n",
      " 50  NonProfit                    59341 non-null   object \n",
      " 51  ForgivenessAmount            938885 non-null  float64\n",
      " 52  ForgivenessDate              938885 non-null  object \n",
      "dtypes: float64(13), int64(6), object(34)\n",
      "memory usage: 391.6+ MB\n"
     ]
    }
   ],
   "source": [
    "df = pd.read_csv(\"public_150k_plus_230101.csv\")\n",
    "\n",
    "df.info()"
   ]
  },
  {
   "cell_type": "code",
   "execution_count": 25,
   "metadata": {},
   "outputs": [
    {
     "data": {
      "text/plain": [
       "LoanNumber  DateApproved  SBAOfficeCode  ProcessingMethod  BorrowerName                                 BorrowerAddress                   BorrowerCity  BorrowerState  BorrowerZip  LoanStatusDate  LoanStatus    Term  SBAGuarantyPercentage  InitialApprovalAmount  CurrentApprovalAmount  UndisbursedAmount  FranchiseName            ServicingLenderLocationID  ServicingLenderName                        ServicingLenderAddress  ServicingLenderCity  ServicingLenderState  ServicingLenderZip  RuralUrbanIndicator  HubzoneIndicator  LMIIndicator  BusinessAgeDescription             ProjectCity  ProjectCountyName  ProjectState  ProjectZip  CD     JobsReported  NAICSCode  Race        Ethnicity          UTILITIES_PROCEED  PAYROLL_PROCEED  MORTGAGE_INTEREST_PROCEED  RENT_PROCEED  REFINANCE_EIDL_PROCEED  HEALTH_CARE_PROCEED  DEBT_INTEREST_PROCEED  BusinessType             OriginatingLenderLocationID  OriginatingLender                          OriginatingLenderCity  OriginatingLenderState  Gender      Veteran     NonProfit  ForgivenessAmount  ForgivenessDate\n",
       "5153067103  04/13/2020    681            PPP               AUSTIN-BERGSTROM LANDHOST ENTERPRISES, INC.  3600 Presidential Blvd Suite 411  Austin        TX             78719-2310   09/25/2021      Paid in Full  24    100                    907555.0               907555.0               0.0                Hilton Hotels & Resorts  48270                      JPMorgan Chase Bank, National Association  1111 Polaris Pkwy       COLUMBUS             OH                    43240-2031          U                    N                 N             Existing or more than 2 years old  Austin       TRAVIS             TX            78719-2310  TX-35  123.0         721110.0   Unanswered  Unknown/NotStated  107176.0           680666.0         119713.0                   0.0           0.0                     0.0                  0.0                    Non-Profit Organization  48270                        JPMorgan Chase Bank, National Association  COLUMBUS               OH                      Unanswered  Unanswered  Y          919290.19          08/03/2021         1\n",
       "dtype: int64"
      ]
     },
     "execution_count": 25,
     "metadata": {},
     "output_type": "execute_result"
    }
   ],
   "source": [
    "df2 = df.loc[df['ProcessingMethod'] == \"PPP\"].value_counts()\n",
    "\n",
    "df2"
   ]
  }
 ],
 "metadata": {
  "kernelspec": {
   "display_name": "Python 3",
   "language": "python",
   "name": "python3"
  },
  "language_info": {
   "codemirror_mode": {
    "name": "ipython",
    "version": 3
   },
   "file_extension": ".py",
   "mimetype": "text/x-python",
   "name": "python",
   "nbconvert_exporter": "python",
   "pygments_lexer": "ipython3",
   "version": "3.10.8"
  },
  "orig_nbformat": 4,
  "vscode": {
   "interpreter": {
    "hash": "26de051ba29f2982a8de78e945f0abaf191376122a1563185a90213a26c5da77"
   }
  }
 },
 "nbformat": 4,
 "nbformat_minor": 2
}
